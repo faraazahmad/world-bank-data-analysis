{
 "cells": [
  {
   "cell_type": "markdown",
   "metadata": {},
   "source": [
    "# Analysing World Bank Data (1960-2016) of population between India and China\n",
    "\n",
    "India and China are the countries with the largest and second largest population in the world respectively. While both countries are approaching the same population, one country's approach to handle population is much more different than the other. Here, we explore that"
   ]
  },
  {
   "cell_type": "code",
   "execution_count": 2,
   "metadata": {},
   "outputs": [],
   "source": [
    "import pandas as pd\n",
    "import numpy as np\n",
    "import matplotlib.pyplot as plt"
   ]
  },
  {
   "cell_type": "code",
   "execution_count": 3,
   "metadata": {},
   "outputs": [],
   "source": [
    "population = pd.read_csv('../inputs/country_population.csv')\n",
    "fertility_rate = pd.read_csv('../inputs/fertility_rate.csv')\n",
    "expectancy = pd.read_csv('../inputs/life_expectancy.csv')"
   ]
  },
  {
   "cell_type": "markdown",
   "metadata": {},
   "source": [
    "## Comparing population growth\n",
    "\n",
    "Population growth of a country is a crucial metric since countries have a fixed area and more people means needing to accomodate more amount of people in the same amount of area. This raises problems like increasing farm and dairy produce and at the same time finding new area to build houses."
   ]
  },
  {
   "cell_type": "code",
   "execution_count": 4,
   "metadata": {},
   "outputs": [
    {
     "data": {
      "text/html": [
       "<div>\n",
       "<style scoped>\n",
       "    .dataframe tbody tr th:only-of-type {\n",
       "        vertical-align: middle;\n",
       "    }\n",
       "\n",
       "    .dataframe tbody tr th {\n",
       "        vertical-align: top;\n",
       "    }\n",
       "\n",
       "    .dataframe thead th {\n",
       "        text-align: right;\n",
       "    }\n",
       "</style>\n",
       "<table border=\"1\" class=\"dataframe\">\n",
       "  <thead>\n",
       "    <tr style=\"text-align: right;\">\n",
       "      <th></th>\n",
       "      <th>Country Name</th>\n",
       "      <th>Country Code</th>\n",
       "      <th>Indicator Name</th>\n",
       "      <th>Indicator Code</th>\n",
       "      <th>1960</th>\n",
       "      <th>1961</th>\n",
       "      <th>1962</th>\n",
       "      <th>1963</th>\n",
       "      <th>1964</th>\n",
       "      <th>1965</th>\n",
       "      <th>...</th>\n",
       "      <th>2007</th>\n",
       "      <th>2008</th>\n",
       "      <th>2009</th>\n",
       "      <th>2010</th>\n",
       "      <th>2011</th>\n",
       "      <th>2012</th>\n",
       "      <th>2013</th>\n",
       "      <th>2014</th>\n",
       "      <th>2015</th>\n",
       "      <th>2016</th>\n",
       "    </tr>\n",
       "  </thead>\n",
       "  <tbody>\n",
       "    <tr>\n",
       "      <th>0</th>\n",
       "      <td>Aruba</td>\n",
       "      <td>ABW</td>\n",
       "      <td>Population, total</td>\n",
       "      <td>SP.POP.TOTL</td>\n",
       "      <td>54211.0</td>\n",
       "      <td>55438.0</td>\n",
       "      <td>56225.0</td>\n",
       "      <td>56695.0</td>\n",
       "      <td>57032.0</td>\n",
       "      <td>57360.0</td>\n",
       "      <td>...</td>\n",
       "      <td>101220.0</td>\n",
       "      <td>101353.0</td>\n",
       "      <td>101453.0</td>\n",
       "      <td>101669.0</td>\n",
       "      <td>102053.0</td>\n",
       "      <td>102577.0</td>\n",
       "      <td>103187.0</td>\n",
       "      <td>103795.0</td>\n",
       "      <td>104341.0</td>\n",
       "      <td>104822.0</td>\n",
       "    </tr>\n",
       "    <tr>\n",
       "      <th>1</th>\n",
       "      <td>Afghanistan</td>\n",
       "      <td>AFG</td>\n",
       "      <td>Population, total</td>\n",
       "      <td>SP.POP.TOTL</td>\n",
       "      <td>8996351.0</td>\n",
       "      <td>9166764.0</td>\n",
       "      <td>9345868.0</td>\n",
       "      <td>9533954.0</td>\n",
       "      <td>9731361.0</td>\n",
       "      <td>9938414.0</td>\n",
       "      <td>...</td>\n",
       "      <td>26616792.0</td>\n",
       "      <td>27294031.0</td>\n",
       "      <td>28004331.0</td>\n",
       "      <td>28803167.0</td>\n",
       "      <td>29708599.0</td>\n",
       "      <td>30696958.0</td>\n",
       "      <td>31731688.0</td>\n",
       "      <td>32758020.0</td>\n",
       "      <td>33736494.0</td>\n",
       "      <td>34656032.0</td>\n",
       "    </tr>\n",
       "    <tr>\n",
       "      <th>2</th>\n",
       "      <td>Angola</td>\n",
       "      <td>AGO</td>\n",
       "      <td>Population, total</td>\n",
       "      <td>SP.POP.TOTL</td>\n",
       "      <td>5643182.0</td>\n",
       "      <td>5753024.0</td>\n",
       "      <td>5866061.0</td>\n",
       "      <td>5980417.0</td>\n",
       "      <td>6093321.0</td>\n",
       "      <td>6203299.0</td>\n",
       "      <td>...</td>\n",
       "      <td>20997687.0</td>\n",
       "      <td>21759420.0</td>\n",
       "      <td>22549547.0</td>\n",
       "      <td>23369131.0</td>\n",
       "      <td>24218565.0</td>\n",
       "      <td>25096150.0</td>\n",
       "      <td>25998340.0</td>\n",
       "      <td>26920466.0</td>\n",
       "      <td>27859305.0</td>\n",
       "      <td>28813463.0</td>\n",
       "    </tr>\n",
       "    <tr>\n",
       "      <th>3</th>\n",
       "      <td>Albania</td>\n",
       "      <td>ALB</td>\n",
       "      <td>Population, total</td>\n",
       "      <td>SP.POP.TOTL</td>\n",
       "      <td>1608800.0</td>\n",
       "      <td>1659800.0</td>\n",
       "      <td>1711319.0</td>\n",
       "      <td>1762621.0</td>\n",
       "      <td>1814135.0</td>\n",
       "      <td>1864791.0</td>\n",
       "      <td>...</td>\n",
       "      <td>2970017.0</td>\n",
       "      <td>2947314.0</td>\n",
       "      <td>2927519.0</td>\n",
       "      <td>2913021.0</td>\n",
       "      <td>2905195.0</td>\n",
       "      <td>2900401.0</td>\n",
       "      <td>2895092.0</td>\n",
       "      <td>2889104.0</td>\n",
       "      <td>2880703.0</td>\n",
       "      <td>2876101.0</td>\n",
       "    </tr>\n",
       "    <tr>\n",
       "      <th>4</th>\n",
       "      <td>Andorra</td>\n",
       "      <td>AND</td>\n",
       "      <td>Population, total</td>\n",
       "      <td>SP.POP.TOTL</td>\n",
       "      <td>13411.0</td>\n",
       "      <td>14375.0</td>\n",
       "      <td>15370.0</td>\n",
       "      <td>16412.0</td>\n",
       "      <td>17469.0</td>\n",
       "      <td>18549.0</td>\n",
       "      <td>...</td>\n",
       "      <td>82683.0</td>\n",
       "      <td>83861.0</td>\n",
       "      <td>84462.0</td>\n",
       "      <td>84449.0</td>\n",
       "      <td>83751.0</td>\n",
       "      <td>82431.0</td>\n",
       "      <td>80788.0</td>\n",
       "      <td>79223.0</td>\n",
       "      <td>78014.0</td>\n",
       "      <td>77281.0</td>\n",
       "    </tr>\n",
       "  </tbody>\n",
       "</table>\n",
       "<p>5 rows × 61 columns</p>\n",
       "</div>"
      ],
      "text/plain": [
       "  Country Name Country Code     Indicator Name Indicator Code       1960  \\\n",
       "0        Aruba          ABW  Population, total    SP.POP.TOTL    54211.0   \n",
       "1  Afghanistan          AFG  Population, total    SP.POP.TOTL  8996351.0   \n",
       "2       Angola          AGO  Population, total    SP.POP.TOTL  5643182.0   \n",
       "3      Albania          ALB  Population, total    SP.POP.TOTL  1608800.0   \n",
       "4      Andorra          AND  Population, total    SP.POP.TOTL    13411.0   \n",
       "\n",
       "        1961       1962       1963       1964       1965     ...      \\\n",
       "0    55438.0    56225.0    56695.0    57032.0    57360.0     ...       \n",
       "1  9166764.0  9345868.0  9533954.0  9731361.0  9938414.0     ...       \n",
       "2  5753024.0  5866061.0  5980417.0  6093321.0  6203299.0     ...       \n",
       "3  1659800.0  1711319.0  1762621.0  1814135.0  1864791.0     ...       \n",
       "4    14375.0    15370.0    16412.0    17469.0    18549.0     ...       \n",
       "\n",
       "         2007        2008        2009        2010        2011        2012  \\\n",
       "0    101220.0    101353.0    101453.0    101669.0    102053.0    102577.0   \n",
       "1  26616792.0  27294031.0  28004331.0  28803167.0  29708599.0  30696958.0   \n",
       "2  20997687.0  21759420.0  22549547.0  23369131.0  24218565.0  25096150.0   \n",
       "3   2970017.0   2947314.0   2927519.0   2913021.0   2905195.0   2900401.0   \n",
       "4     82683.0     83861.0     84462.0     84449.0     83751.0     82431.0   \n",
       "\n",
       "         2013        2014        2015        2016  \n",
       "0    103187.0    103795.0    104341.0    104822.0  \n",
       "1  31731688.0  32758020.0  33736494.0  34656032.0  \n",
       "2  25998340.0  26920466.0  27859305.0  28813463.0  \n",
       "3   2895092.0   2889104.0   2880703.0   2876101.0  \n",
       "4     80788.0     79223.0     78014.0     77281.0  \n",
       "\n",
       "[5 rows x 61 columns]"
      ]
     },
     "execution_count": 4,
     "metadata": {},
     "output_type": "execute_result"
    }
   ],
   "source": [
    "population.head()"
   ]
  },
  {
   "cell_type": "code",
   "execution_count": 5,
   "metadata": {},
   "outputs": [],
   "source": [
    "india = population.loc[population['Country Name'] == 'India']\n",
    "china = population.loc[population['Country Name'] == 'China']"
   ]
  },
  {
   "cell_type": "markdown",
   "metadata": {},
   "source": [
    "## Comparing population of India and China per year (1960-2016)"
   ]
  },
  {
   "cell_type": "code",
   "execution_count": 6,
   "metadata": {},
   "outputs": [
    {
     "data": {
      "image/png": "[encoded data removed]",
      "text/plain": [
       "<Figure size 432x288 with 1 Axes>"
      ]
     },
     "metadata": {},
     "output_type": "display_data"
    }
   ],
   "source": [
    "x = range(1959, 2016)\n",
    "size = india.size\n",
    "y_india = india.iloc[0, 4:size]\n",
    "y_china = china.iloc[0, 4:size]\n",
    "\n",
    "plt.plot(x, y_india)\n",
    "plt.plot(x, y_china)\n",
    "plt.xlabel('Year (1960 - 2016)')\n",
    "plt.ylabel('population (billions)')\n",
    "plt.legend(['India', 'China'])\n",
    "plt.show()"
   ]
  },
  {
   "cell_type": "markdown",
   "metadata": {},
   "source": [
    "It seems like India's population has been steadily growing while in China the growth rate has been decreasing which confirms that the one-child limit set from 1979 to 2015 has worked to control the growth of population, whereas no such policy has been implemented in India and it seems like the population of India might even exceed that of China in the near future, since china now has a 2 child limit. This poses a large threat on India since India's geographical area (2,973,193.0 sqaure km) is much smaller than that of China (9,326,410.0 sqaure km)"
   ]
  },
  {
   "cell_type": "markdown",
   "metadata": {},
   "source": [
    "## Comparing population growth rate per year"
   ]
  },
  {
   "cell_type": "code",
   "execution_count": 48,
   "metadata": {},
   "outputs": [
    {
     "data": {
      "image/png": "[encoded data removed]",
      "text/plain": [
       "<Figure size 432x288 with 1 Axes>"
      ]
     },
     "metadata": {},
     "output_type": "display_data"
    }
   ],
   "source": [
    "india_growth = []\n",
    "for i in range(56):\n",
    "    india_growth.append(y_india[i + 1] - y_india[i])\n",
    "\n",
    "china_growth = []\n",
    "for i in range(56):\n",
    "    china_growth.append(y_china[i + 1] - y_china[i])\n",
    "    \n",
    "plt.plot(x[1:], india_growth)\n",
    "plt.plot(x[1:], china_growth)\n",
    "plt.legend([\"India\", \"China\"])\n",
    "plt.show()"
   ]
  },
  {
   "cell_type": "markdown",
   "metadata": {},
   "source": [
    "## Comparing fertility rate\n",
    "Fertility rate is roughly defined as number of children born per woman and is a key statistic to observe the affect of the 1-child limit"
   ]
  },
  {
   "cell_type": "code",
   "execution_count": null,
   "metadata": {},
   "outputs": [],
   "source": [
    "fertility_rate.head()"
   ]
  },
  {
   "cell_type": "code",
   "execution_count": null,
   "metadata": {},
   "outputs": [],
   "source": [
    "# fertility rate of china\n",
    "china_fer = fertility_rate.loc[fertility_rate['Country Name'] == \"China\"].iloc[0, 4:size]\n",
    "# fertility rate of India\n",
    "india_fer = fertility_rate.loc[fertility_rate['Country Name'] == \"India\"].iloc[0, 4:size]"
   ]
  },
  {
   "cell_type": "code",
   "execution_count": null,
   "metadata": {},
   "outputs": [],
   "source": [
    "# comparing fertility rate of both countries\n",
    "plt.plot(x, india_fer)\n",
    "plt.plot(x, china_fer)\n",
    "plt.xlabel('Year (1960 - 2016)')\n",
    "plt.ylabel('child per woman')\n",
    "plt.legend(['India', 'China'])\n",
    "plt.show()"
   ]
  },
  {
   "cell_type": "markdown",
   "metadata": {},
   "source": [
    "India's approach of gradually decreasing fertilty rate seems more favourable for stability of the society. China's approach of immediate action and reducing fertilty rate to 1 seems harsh and would tend to bring about resistance, but the 1-child limit was introduced around 1980, so what caused the immediate decrease in fertilty rate about 10 years earlier is unclear right now."
   ]
  },
  {
   "cell_type": "markdown",
   "metadata": {},
   "source": [
    "## Population density (People per square kilomteters)\n",
    "The biggest problem with increase in population is the limited amount of geographical area available in the country. The population density needs to be in a safe range so as to keep the country's expenses in check. For example, if this ratio is very large and there is no land to produce food, most of it will need to be imported and will decrease self-sufficiency of the country."
   ]
  },
  {
   "cell_type": "code",
   "execution_count": null,
   "metadata": {},
   "outputs": [],
   "source": [
    "china_area = 9326410.0\n",
    "india_area = 2973193.0\n",
    "plt.plot(x, y_india/india_area)\n",
    "plt.plot(x, y_china/china_area)\n",
    "plt.xlabel('Year (1960 - 2016)')\n",
    "plt.ylabel('population density (people per sq. km.)')\n",
    "plt.legend(['India', 'China'])\n",
    "plt.show()"
   ]
  },
  {
   "cell_type": "markdown",
   "metadata": {},
   "source": [
    "As you can see, India's population density is much, much higher than that of China. At some point, it might start to cause troubles when above a certain limit combined with the per capita GDP. For example, Monaco has a density of 18,589 but has a relatively high per capita GDP of 168,000 USD. Wheras in the case of Bangladesh, the per capita GDP is 1,754 USD and the density is 1,145 which may have contributed to the allegedly lower quality of life. I know it's not for me to decide anything but the numbers speak for themselves, I hope conditions change for the better everywhere."
   ]
  }
 ],
 "metadata": {
  "kernelspec": {
   "display_name": "Python 3",
   "language": "python",
   "name": "python3"
  },
  "language_info": {
   "codemirror_mode": {
    "name": "ipython",
    "version": 3
   },
   "file_extension": ".py",
   "mimetype": "text/x-python",
   "name": "python",
   "nbconvert_exporter": "python",
   "pygments_lexer": "ipython3",
   "version": "3.6.5"
  }
 },
 "nbformat": 4,
 "nbformat_minor": 2
}
