{
 "cells": [
  {
   "cell_type": "markdown",
   "metadata": {},
   "source": [
    "# Analysing World Bank Data (1960-2016) of population between India and China\n",
    "\n",
    "India and China are the countries with the largest and second largest population in the world respectively. While both countries are approaching the same population, one country's approach to handle population is much more different than the other. Here, we explore that"
   ]
  },
  {
   "cell_type": "code",
   "execution_count": 5,
   "metadata": {},
   "outputs": [],
   "source": [
    "import pandas as pd\n",
    "import numpy as np\n",
    "import matplotlib.pyplot as plt"
   ]
  },
  {
   "cell_type": "code",
   "execution_count": 6,
   "metadata": {},
   "outputs": [],
   "source": [
    "population = pd.read_csv('country_population.csv')\n",
    "fertility_rate = pd.read_csv('fertility_rate.csv')\n",
    "expectancy = pd.read_csv('life_expectancy.csv')"
   ]
  },
  {
   "cell_type": "markdown",
   "metadata": {},
   "source": [
    "## Comparing population growth\n",
    "\n",
    "Population growth of a country is a crucial metric since countries have a fixed area and more people means needing to accomodate more amount of people in the same amount of area. This raises problems like increasing farm and dairy produce and at the same time finding new area to build houses."
   ]
  },
  {
   "cell_type": "code",
   "execution_count": 7,
   "metadata": {},
   "outputs": [
    {
     "data": {
      "text/html": [
       "<div>\n",
       "<style scoped>\n",
       "    .dataframe tbody tr th:only-of-type {\n",
       "        vertical-align: middle;\n",
       "    }\n",
       "\n",
       "    .dataframe tbody tr th {\n",
       "        vertical-align: top;\n",
       "    }\n",
       "\n",
       "    .dataframe thead th {\n",
       "        text-align: right;\n",
       "    }\n",
       "</style>\n",
       "<table border=\"1\" class=\"dataframe\">\n",
       "  <thead>\n",
       "    <tr style=\"text-align: right;\">\n",
       "      <th></th>\n",
       "      <th>Country Name</th>\n",
       "      <th>Country Code</th>\n",
       "      <th>Indicator Name</th>\n",
       "      <th>Indicator Code</th>\n",
       "      <th>1960</th>\n",
       "      <th>1961</th>\n",
       "      <th>1962</th>\n",
       "      <th>1963</th>\n",
       "      <th>1964</th>\n",
       "      <th>1965</th>\n",
       "      <th>...</th>\n",
       "      <th>2007</th>\n",
       "      <th>2008</th>\n",
       "      <th>2009</th>\n",
       "      <th>2010</th>\n",
       "      <th>2011</th>\n",
       "      <th>2012</th>\n",
       "      <th>2013</th>\n",
       "      <th>2014</th>\n",
       "      <th>2015</th>\n",
       "      <th>2016</th>\n",
       "    </tr>\n",
       "  </thead>\n",
       "  <tbody>\n",
       "    <tr>\n",
       "      <th>0</th>\n",
       "      <td>Aruba</td>\n",
       "      <td>ABW</td>\n",
       "      <td>Population, total</td>\n",
       "      <td>SP.POP.TOTL</td>\n",
       "      <td>54211.0</td>\n",
       "      <td>55438.0</td>\n",
       "      <td>56225.0</td>\n",
       "      <td>56695.0</td>\n",
       "      <td>57032.0</td>\n",
       "      <td>57360.0</td>\n",
       "      <td>...</td>\n",
       "      <td>101220.0</td>\n",
       "      <td>101353.0</td>\n",
       "      <td>101453.0</td>\n",
       "      <td>101669.0</td>\n",
       "      <td>102053.0</td>\n",
       "      <td>102577.0</td>\n",
       "      <td>103187.0</td>\n",
       "      <td>103795.0</td>\n",
       "      <td>104341.0</td>\n",
       "      <td>104822.0</td>\n",
       "    </tr>\n",
       "    <tr>\n",
       "      <th>1</th>\n",
       "      <td>Afghanistan</td>\n",
       "      <td>AFG</td>\n",
       "      <td>Population, total</td>\n",
       "      <td>SP.POP.TOTL</td>\n",
       "      <td>8996351.0</td>\n",
       "      <td>9166764.0</td>\n",
       "      <td>9345868.0</td>\n",
       "      <td>9533954.0</td>\n",
       "      <td>9731361.0</td>\n",
       "      <td>9938414.0</td>\n",
       "      <td>...</td>\n",
       "      <td>26616792.0</td>\n",
       "      <td>27294031.0</td>\n",
       "      <td>28004331.0</td>\n",
       "      <td>28803167.0</td>\n",
       "      <td>29708599.0</td>\n",
       "      <td>30696958.0</td>\n",
       "      <td>31731688.0</td>\n",
       "      <td>32758020.0</td>\n",
       "      <td>33736494.0</td>\n",
       "      <td>34656032.0</td>\n",
       "    </tr>\n",
       "    <tr>\n",
       "      <th>2</th>\n",
       "      <td>Angola</td>\n",
       "      <td>AGO</td>\n",
       "      <td>Population, total</td>\n",
       "      <td>SP.POP.TOTL</td>\n",
       "      <td>5643182.0</td>\n",
       "      <td>5753024.0</td>\n",
       "      <td>5866061.0</td>\n",
       "      <td>5980417.0</td>\n",
       "      <td>6093321.0</td>\n",
       "      <td>6203299.0</td>\n",
       "      <td>...</td>\n",
       "      <td>20997687.0</td>\n",
       "      <td>21759420.0</td>\n",
       "      <td>22549547.0</td>\n",
       "      <td>23369131.0</td>\n",
       "      <td>24218565.0</td>\n",
       "      <td>25096150.0</td>\n",
       "      <td>25998340.0</td>\n",
       "      <td>26920466.0</td>\n",
       "      <td>27859305.0</td>\n",
       "      <td>28813463.0</td>\n",
       "    </tr>\n",
       "    <tr>\n",
       "      <th>3</th>\n",
       "      <td>Albania</td>\n",
       "      <td>ALB</td>\n",
       "      <td>Population, total</td>\n",
       "      <td>SP.POP.TOTL</td>\n",
       "      <td>1608800.0</td>\n",
       "      <td>1659800.0</td>\n",
       "      <td>1711319.0</td>\n",
       "      <td>1762621.0</td>\n",
       "      <td>1814135.0</td>\n",
       "      <td>1864791.0</td>\n",
       "      <td>...</td>\n",
       "      <td>2970017.0</td>\n",
       "      <td>2947314.0</td>\n",
       "      <td>2927519.0</td>\n",
       "      <td>2913021.0</td>\n",
       "      <td>2905195.0</td>\n",
       "      <td>2900401.0</td>\n",
       "      <td>2895092.0</td>\n",
       "      <td>2889104.0</td>\n",
       "      <td>2880703.0</td>\n",
       "      <td>2876101.0</td>\n",
       "    </tr>\n",
       "    <tr>\n",
       "      <th>4</th>\n",
       "      <td>Andorra</td>\n",
       "      <td>AND</td>\n",
       "      <td>Population, total</td>\n",
       "      <td>SP.POP.TOTL</td>\n",
       "      <td>13411.0</td>\n",
       "      <td>14375.0</td>\n",
       "      <td>15370.0</td>\n",
       "      <td>16412.0</td>\n",
       "      <td>17469.0</td>\n",
       "      <td>18549.0</td>\n",
       "      <td>...</td>\n",
       "      <td>82683.0</td>\n",
       "      <td>83861.0</td>\n",
       "      <td>84462.0</td>\n",
       "      <td>84449.0</td>\n",
       "      <td>83751.0</td>\n",
       "      <td>82431.0</td>\n",
       "      <td>80788.0</td>\n",
       "      <td>79223.0</td>\n",
       "      <td>78014.0</td>\n",
       "      <td>77281.0</td>\n",
       "    </tr>\n",
       "  </tbody>\n",
       "</table>\n",
       "<p>5 rows × 61 columns</p>\n",
       "</div>"
      ],
      "text/plain": [
       "  Country Name Country Code     Indicator Name Indicator Code       1960  \\\n",
       "0        Aruba          ABW  Population, total    SP.POP.TOTL    54211.0   \n",
       "1  Afghanistan          AFG  Population, total    SP.POP.TOTL  8996351.0   \n",
       "2       Angola          AGO  Population, total    SP.POP.TOTL  5643182.0   \n",
       "3      Albania          ALB  Population, total    SP.POP.TOTL  1608800.0   \n",
       "4      Andorra          AND  Population, total    SP.POP.TOTL    13411.0   \n",
       "\n",
       "        1961       1962       1963       1964       1965     ...      \\\n",
       "0    55438.0    56225.0    56695.0    57032.0    57360.0     ...       \n",
       "1  9166764.0  9345868.0  9533954.0  9731361.0  9938414.0     ...       \n",
       "2  5753024.0  5866061.0  5980417.0  6093321.0  6203299.0     ...       \n",
       "3  1659800.0  1711319.0  1762621.0  1814135.0  1864791.0     ...       \n",
       "4    14375.0    15370.0    16412.0    17469.0    18549.0     ...       \n",
       "\n",
       "         2007        2008        2009        2010        2011        2012  \\\n",
       "0    101220.0    101353.0    101453.0    101669.0    102053.0    102577.0   \n",
       "1  26616792.0  27294031.0  28004331.0  28803167.0  29708599.0  30696958.0   \n",
       "2  20997687.0  21759420.0  22549547.0  23369131.0  24218565.0  25096150.0   \n",
       "3   2970017.0   2947314.0   2927519.0   2913021.0   2905195.0   2900401.0   \n",
       "4     82683.0     83861.0     84462.0     84449.0     83751.0     82431.0   \n",
       "\n",
       "         2013        2014        2015        2016  \n",
       "0    103187.0    103795.0    104341.0    104822.0  \n",
       "1  31731688.0  32758020.0  33736494.0  34656032.0  \n",
       "2  25998340.0  26920466.0  27859305.0  28813463.0  \n",
       "3   2895092.0   2889104.0   2880703.0   2876101.0  \n",
       "4     80788.0     79223.0     78014.0     77281.0  \n",
       "\n",
       "[5 rows x 61 columns]"
      ]
     },
     "execution_count": 7,
     "metadata": {},
     "output_type": "execute_result"
    }
   ],
   "source": [
    "population.head()"
   ]
  },
  {
   "cell_type": "code",
   "execution_count": 8,
   "metadata": {},
   "outputs": [],
   "source": [
    "india = population.loc[population['Country Name'] == 'India']\n",
    "china = population.loc[population['Country Name'] == 'China']"
   ]
  },
  {
   "cell_type": "markdown",
   "metadata": {},
   "source": [
    "## Comparing population of India and China per year (1960-2016)"
   ]
  },
  {
   "cell_type": "code",
   "execution_count": 9,
   "metadata": {},
   "outputs": [
    {
     "data": {
      "image/png": "[encoded data removed]",
      "text/plain": [
       "<Figure size 432x288 with 1 Axes>"
      ]
     },
     "metadata": {},
     "output_type": "display_data"
    }
   ],
   "source": [
    "x = range(1959, 2016)\n",
    "size = india.size\n",
    "y_india = india.iloc[0, 4:size]\n",
    "y_china = china.iloc[0, 4:size]\n",
    "\n",
    "plt.plot(x, y_india)\n",
    "plt.plot(x, y_china)\n",
    "plt.xlabel('Year (1960 - 2016)')\n",
    "plt.ylabel('population (billions)')\n",
    "plt.legend(['India', 'China'])\n",
    "plt.show()"
   ]
  },
  {
   "cell_type": "markdown",
   "metadata": {},
   "source": [
    "It seems like India's population has been steadily growing while in China the growth rate has been decreasing which confirms that the one-child limit set from 1979 to 2015 has worked to control the growth of population, whereas no such policy has been implemented in India and it seems like the population of India might even exceed that of China in the near future, since china now has a 2 child limit. This poses a large threat on India since India's geographical area (2,973,193.0 sqaure km) is much smaller than that of China (9,326,410.0 sqaure km)"
   ]
  },
  {
   "cell_type": "code",
   "execution_count": 10,
   "metadata": {},
   "outputs": [],
   "source": [
    "# TODO: compare population growth per year"
   ]
  },
  {
   "cell_type": "markdown",
   "metadata": {},
   "source": [
    "## Comparing fertility rate\n",
    "Fertility rate is roughly defined as number of children born per woman and is a key statistic to observe the affect of the 1-child limit"
   ]
  },
  {
   "cell_type": "code",
   "execution_count": 11,
   "metadata": {},
   "outputs": [
    {
     "data": {
      "text/html": [
       "<div>\n",
       "<style scoped>\n",
       "    .dataframe tbody tr th:only-of-type {\n",
       "        vertical-align: middle;\n",
       "    }\n",
       "\n",
       "    .dataframe tbody tr th {\n",
       "        vertical-align: top;\n",
       "    }\n",
       "\n",
       "    .dataframe thead th {\n",
       "        text-align: right;\n",
       "    }\n",
       "</style>\n",
       "<table border=\"1\" class=\"dataframe\">\n",
       "  <thead>\n",
       "    <tr style=\"text-align: right;\">\n",
       "      <th></th>\n",
       "      <th>Country Name</th>\n",
       "      <th>Country Code</th>\n",
       "      <th>Indicator Name</th>\n",
       "      <th>Indicator Code</th>\n",
       "      <th>1960</th>\n",
       "      <th>1961</th>\n",
       "      <th>1962</th>\n",
       "      <th>1963</th>\n",
       "      <th>1964</th>\n",
       "      <th>1965</th>\n",
       "      <th>...</th>\n",
       "      <th>2007</th>\n",
       "      <th>2008</th>\n",
       "      <th>2009</th>\n",
       "      <th>2010</th>\n",
       "      <th>2011</th>\n",
       "      <th>2012</th>\n",
       "      <th>2013</th>\n",
       "      <th>2014</th>\n",
       "      <th>2015</th>\n",
       "      <th>2016</th>\n",
       "    </tr>\n",
       "  </thead>\n",
       "  <tbody>\n",
       "    <tr>\n",
       "      <th>0</th>\n",
       "      <td>Aruba</td>\n",
       "      <td>ABW</td>\n",
       "      <td>Fertility rate, total (births per woman)</td>\n",
       "      <td>SP.DYN.TFRT.IN</td>\n",
       "      <td>4.820</td>\n",
       "      <td>4.655</td>\n",
       "      <td>4.471</td>\n",
       "      <td>4.271</td>\n",
       "      <td>4.059</td>\n",
       "      <td>3.842</td>\n",
       "      <td>...</td>\n",
       "      <td>1.763</td>\n",
       "      <td>1.764</td>\n",
       "      <td>1.769</td>\n",
       "      <td>1.776</td>\n",
       "      <td>1.783</td>\n",
       "      <td>1.791</td>\n",
       "      <td>1.796</td>\n",
       "      <td>1.800</td>\n",
       "      <td>1.801</td>\n",
       "      <td>1.800</td>\n",
       "    </tr>\n",
       "    <tr>\n",
       "      <th>1</th>\n",
       "      <td>Afghanistan</td>\n",
       "      <td>AFG</td>\n",
       "      <td>Fertility rate, total (births per woman)</td>\n",
       "      <td>SP.DYN.TFRT.IN</td>\n",
       "      <td>7.450</td>\n",
       "      <td>7.450</td>\n",
       "      <td>7.450</td>\n",
       "      <td>7.450</td>\n",
       "      <td>7.450</td>\n",
       "      <td>7.450</td>\n",
       "      <td>...</td>\n",
       "      <td>6.460</td>\n",
       "      <td>6.254</td>\n",
       "      <td>6.038</td>\n",
       "      <td>5.816</td>\n",
       "      <td>5.595</td>\n",
       "      <td>5.380</td>\n",
       "      <td>5.174</td>\n",
       "      <td>4.981</td>\n",
       "      <td>4.802</td>\n",
       "      <td>4.635</td>\n",
       "    </tr>\n",
       "    <tr>\n",
       "      <th>2</th>\n",
       "      <td>Angola</td>\n",
       "      <td>AGO</td>\n",
       "      <td>Fertility rate, total (births per woman)</td>\n",
       "      <td>SP.DYN.TFRT.IN</td>\n",
       "      <td>7.478</td>\n",
       "      <td>7.524</td>\n",
       "      <td>7.563</td>\n",
       "      <td>7.592</td>\n",
       "      <td>7.611</td>\n",
       "      <td>7.619</td>\n",
       "      <td>...</td>\n",
       "      <td>6.368</td>\n",
       "      <td>6.307</td>\n",
       "      <td>6.238</td>\n",
       "      <td>6.162</td>\n",
       "      <td>6.082</td>\n",
       "      <td>6.000</td>\n",
       "      <td>5.920</td>\n",
       "      <td>5.841</td>\n",
       "      <td>5.766</td>\n",
       "      <td>5.694</td>\n",
       "    </tr>\n",
       "    <tr>\n",
       "      <th>3</th>\n",
       "      <td>Albania</td>\n",
       "      <td>ALB</td>\n",
       "      <td>Fertility rate, total (births per woman)</td>\n",
       "      <td>SP.DYN.TFRT.IN</td>\n",
       "      <td>6.489</td>\n",
       "      <td>6.401</td>\n",
       "      <td>6.282</td>\n",
       "      <td>6.133</td>\n",
       "      <td>5.960</td>\n",
       "      <td>5.773</td>\n",
       "      <td>...</td>\n",
       "      <td>1.668</td>\n",
       "      <td>1.650</td>\n",
       "      <td>1.646</td>\n",
       "      <td>1.653</td>\n",
       "      <td>1.668</td>\n",
       "      <td>1.685</td>\n",
       "      <td>1.700</td>\n",
       "      <td>1.710</td>\n",
       "      <td>1.714</td>\n",
       "      <td>1.713</td>\n",
       "    </tr>\n",
       "    <tr>\n",
       "      <th>4</th>\n",
       "      <td>Andorra</td>\n",
       "      <td>AND</td>\n",
       "      <td>Fertility rate, total (births per woman)</td>\n",
       "      <td>SP.DYN.TFRT.IN</td>\n",
       "      <td>NaN</td>\n",
       "      <td>NaN</td>\n",
       "      <td>NaN</td>\n",
       "      <td>NaN</td>\n",
       "      <td>NaN</td>\n",
       "      <td>NaN</td>\n",
       "      <td>...</td>\n",
       "      <td>1.180</td>\n",
       "      <td>1.250</td>\n",
       "      <td>1.190</td>\n",
       "      <td>1.270</td>\n",
       "      <td>NaN</td>\n",
       "      <td>NaN</td>\n",
       "      <td>NaN</td>\n",
       "      <td>NaN</td>\n",
       "      <td>NaN</td>\n",
       "      <td>NaN</td>\n",
       "    </tr>\n",
       "  </tbody>\n",
       "</table>\n",
       "<p>5 rows × 61 columns</p>\n",
       "</div>"
      ],
      "text/plain": [
       "  Country Name Country Code                            Indicator Name  \\\n",
       "0        Aruba          ABW  Fertility rate, total (births per woman)   \n",
       "1  Afghanistan          AFG  Fertility rate, total (births per woman)   \n",
       "2       Angola          AGO  Fertility rate, total (births per woman)   \n",
       "3      Albania          ALB  Fertility rate, total (births per woman)   \n",
       "4      Andorra          AND  Fertility rate, total (births per woman)   \n",
       "\n",
       "   Indicator Code   1960   1961   1962   1963   1964   1965  ...     2007  \\\n",
       "0  SP.DYN.TFRT.IN  4.820  4.655  4.471  4.271  4.059  3.842  ...    1.763   \n",
       "1  SP.DYN.TFRT.IN  7.450  7.450  7.450  7.450  7.450  7.450  ...    6.460   \n",
       "2  SP.DYN.TFRT.IN  7.478  7.524  7.563  7.592  7.611  7.619  ...    6.368   \n",
       "3  SP.DYN.TFRT.IN  6.489  6.401  6.282  6.133  5.960  5.773  ...    1.668   \n",
       "4  SP.DYN.TFRT.IN    NaN    NaN    NaN    NaN    NaN    NaN  ...    1.180   \n",
       "\n",
       "    2008   2009   2010   2011   2012   2013   2014   2015   2016  \n",
       "0  1.764  1.769  1.776  1.783  1.791  1.796  1.800  1.801  1.800  \n",
       "1  6.254  6.038  5.816  5.595  5.380  5.174  4.981  4.802  4.635  \n",
       "2  6.307  6.238  6.162  6.082  6.000  5.920  5.841  5.766  5.694  \n",
       "3  1.650  1.646  1.653  1.668  1.685  1.700  1.710  1.714  1.713  \n",
       "4  1.250  1.190  1.270    NaN    NaN    NaN    NaN    NaN    NaN  \n",
       "\n",
       "[5 rows x 61 columns]"
      ]
     },
     "execution_count": 11,
     "metadata": {},
     "output_type": "execute_result"
    }
   ],
   "source": [
    "fertility_rate.head()"
   ]
  },
  {
   "cell_type": "code",
   "execution_count": 12,
   "metadata": {},
   "outputs": [],
   "source": [
    "# fertility rate of china\n",
    "china_fer = fertility_rate.loc[fertility_rate['Country Name'] == \"China\"].iloc[0, 4:size]\n",
    "# fertility rate of India\n",
    "india_fer = fertility_rate.loc[fertility_rate['Country Name'] == \"India\"].iloc[0, 4:size]"
   ]
  },
  {
   "cell_type": "code",
   "execution_count": 13,
   "metadata": {},
   "outputs": [
    {
     "data": {
      "image/png": "[encoded data removed]",
      "text/plain": [
       "<Figure size 432x288 with 1 Axes>"
      ]
     },
     "metadata": {},
     "output_type": "display_data"
    }
   ],
   "source": [
    "# comparing fertility rate of both countries\n",
    "plt.plot(x, india_fer)\n",
    "plt.plot(x, china_fer)\n",
    "plt.xlabel('Year (1960 - 2016)')\n",
    "plt.ylabel('child per woman')\n",
    "plt.legend(['India', 'China'])\n",
    "plt.show()"
   ]
  },
  {
   "cell_type": "markdown",
   "metadata": {},
   "source": [
    "India's approach of gradually decreasing fertilty rate seems more favourable for stability of the society. China's approach of immediate action and reducing fertilty rate to 1 seems harsh and would tend to bring about resistance, but the 1-child limit was introduced around 1980, so what caused the immediate decrease in fertilty rate about 10 years earlier is unclear right now."
   ]
  },
  {
   "cell_type": "markdown",
   "metadata": {},
   "source": [
    "## Population density (People per square kilomteters)\n",
    "The biggest problem with increase in population is the limited amount of geographical area available in the country. The population density needs to be in a safe range so as to keep the country's expenses in check. For example, if this ratio is very large and there is no land to produce food, most of it will need to be imported and will decrease self-sufficiency of the country."
   ]
  },
  {
   "cell_type": "code",
   "execution_count": 16,
   "metadata": {},
   "outputs": [
    {
     "data": {
      "image/png": "[encoded data removed]",
      "text/plain": [
       "<Figure size 432x288 with 1 Axes>"
      ]
     },
     "metadata": {},
     "output_type": "display_data"
    }
   ],
   "source": [
    "china_area = 9326410.0\n",
    "india_area = 2973193.0\n",
    "plt.plot(x, y_india/india_area)\n",
    "plt.plot(x, y_china/china_area)\n",
    "plt.xlabel('Year (1960 - 2016)')\n",
    "plt.ylabel('population density (people per sq. km.)')\n",
    "plt.legend(['India', 'China'])\n",
    "plt.show()"
   ]
  },
  {
   "cell_type": "markdown",
   "metadata": {},
   "source": [
    "As you can see, India's population density is much, much higher than that of China. At some point, it might start to cause troubles when above a certain limit combined with the per capita GDP. For example, Monaco has a density of 18,589 but has a relatively high per capita GDP of 168,000 USD. Wheras in the case of Bangladesh, the per capita GDP is 1,754 USD and the density is 1,145 which may have contributed to the allegedly lower quality of life. I know it's not for me to decide anything but the numbers speak for themselves, I hope conditions change for the better everywhere."
   ]
  }
 ],
 "metadata": {
  "kernelspec": {
   "display_name": "Python 3",
   "language": "python",
   "name": "python3"
  },
  "language_info": {
   "codemirror_mode": {
    "name": "ipython",
    "version": 3
   },
   "file_extension": ".py",
   "mimetype": "text/x-python",
   "name": "python",
   "nbconvert_exporter": "python",
   "pygments_lexer": "ipython3",
   "version": "3.6.5"
  }
 },
 "nbformat": 4,
 "nbformat_minor": 2
}
